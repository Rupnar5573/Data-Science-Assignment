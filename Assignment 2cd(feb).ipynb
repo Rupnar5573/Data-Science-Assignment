{
 "cells": [
  {
   "cell_type": "code",
   "execution_count": null,
   "id": "bbc5373a-ae50-477b-9f2b-6fa7442cd721",
   "metadata": {},
   "outputs": [],
   "source": [
    "\n",
    "#--------------> Assignment 3 ------>\n"
   ]
  },
  {
   "cell_type": "code",
   "execution_count": 7,
   "id": "1730a6e9-5cdf-455f-a62c-b319c37dda5f",
   "metadata": {},
   "outputs": [
    {
     "name": "stdout",
     "output_type": "stream",
     "text": [
      "1\n",
      "2\n",
      "3\n",
      "4\n",
      "5\n"
     ]
    }
   ],
   "source": [
    "#1.Explain with an example each when to use a for loop and a while loop.\n",
    "#---> A for loop is used when you have a fixed number of iterations,\n",
    "#    i.e. you know exactly how many times the loop should run. On the other hand, \n",
    "#    a while loop is used when you don't know the exact number of iterations in advance,\n",
    "#    and the loop should continue running as long as a certain condition is met.\n",
    "\n",
    "# Example of a for loop:\n",
    "# Printing the first 5 natural numbers\n",
    "for i in range(1, 6):\n",
    "  print(i)\n",
    "\n",
    "\n"
   ]
  },
  {
   "cell_type": "code",
   "execution_count": 8,
   "id": "9ceabb18-1967-4d00-9af4-7087911f1cc2",
   "metadata": {},
   "outputs": [
    {
     "name": "stdout",
     "output_type": "stream",
     "text": [
      "1\n",
      "2\n",
      "3\n",
      "4\n",
      "5\n"
     ]
    }
   ],
   "source": [
    "# Example of a while loop:\n",
    "# Printing the first 5 natural numbers\n",
    "i = 1\n",
    "while i <= 5:\n",
    "  print(i)\n",
    "  i += 1\n",
    "\n"
   ]
  },
  {
   "cell_type": "code",
   "execution_count": 5,
   "id": "0515b554-07a2-4c9b-8a38-8bc59ee6aaf2",
   "metadata": {},
   "outputs": [
    {
     "name": "stdout",
     "output_type": "stream",
     "text": [
      "The sum of first 10 natural numbers (using for loop) is: 55\n",
      "The product of first 10 natural numbers (using for loop) is: 3628800\n",
      "The sum of first 10 natural numbers (using while loop) is: 55\n",
      "The product of first 10 natural numbers (using while loop) is: 3628800\n"
     ]
    }
   ],
   "source": [
    "# Q2.Write a python program to print the sum and product of the first 10 natural numbers \n",
    "#    using for and while loop.\n",
    "# Using for loop\n",
    "\n",
    "sum_of_first_10_numbers = 0\n",
    "product_of_first_10_numbers = 1\n",
    "for i in range(1, 11):\n",
    "  sum_of_first_10_numbers += i\n",
    "  product_of_first_10_numbers *= i\n",
    "\n",
    "print(\"The sum of first 10 natural numbers (using for loop) is:\", sum_of_first_10_numbers)\n",
    "print(\"The product of first 10 natural numbers (using for loop) is:\", product_of_first_10_numbers)\n",
    "\n",
    "# Using while loop\n",
    "sum_of_first_10_numbers = 0\n",
    "product_of_first_10_numbers = 1\n",
    "i = 1\n",
    "while i <= 10:\n",
    "  sum_of_first_10_numbers += i\n",
    "  product_of_first_10_numbers *= i\n",
    "  i += 1\n",
    "\n",
    "print(\"The sum of first 10 natural numbers (using while loop) is:\", sum_of_first_10_numbers)\n",
    "print(\"The product of first 10 natural numbers (using while loop) is:\", product_of_first_10_numbers)\n",
    "\n"
   ]
  },
  {
   "cell_type": "code",
   "execution_count": 4,
   "id": "259c2325-c23b-4c3e-8d7c-ae662772988c",
   "metadata": {},
   "outputs": [
    {
     "name": "stdin",
     "output_type": "stream",
     "text": [
      "Enter the number of units consumed:  400\n"
     ]
    },
    {
     "name": "stdout",
     "output_type": "stream",
     "text": [
      "The total electricity bill is: Rs. 4050.0\n"
     ]
    }
   ],
   "source": [
    "# # #Q3 Create a python program to compute the electricity bill for a household.\n",
    "\n",
    "# # The per-unit charges in rupees are as follows: For the first 100 units, the user will be charged Rs. 4.5 per unit, \n",
    "#   for the next 100 units, the user will be charged Rs. 6 per unit, and for the next 100 units, \n",
    "#   the user will be charged Rs. 10 per unit, After 300 units and above the user will be charged Rs. 20 per unit.\n",
    "\n",
    "# # You are required to take the units of electricity consumed in a month from the user as input.\n",
    "\n",
    "# # Your program must pass this test case: when the unit of electricity consumed by the user in a month is 310, \n",
    "#   the total electricity bill should be 2250.\n",
    "\n",
    "def electricity_bill(units):\n",
    "  if units <= 100:\n",
    "    bill = units * 4.5\n",
    "  elif units <= 200:\n",
    "    bill = 100 * 4.5 + (units - 100) * 6\n",
    "  elif units <= 300:\n",
    "    bill = 100 * 4.5 + 100 * 6 + (units - 200) * 10\n",
    "  else:\n",
    "    bill = 100 * 4.5 + 100 * 6 + 100 * 10 + (units - 300) * 20\n",
    "  return bill\n",
    "\n",
    "units = int(input(\"Enter the number of units consumed: \"))\n",
    "print(\"The total electricity bill is: Rs.\", electricity_bill(units))\n"
   ]
  },
  {
   "cell_type": "code",
   "execution_count": 9,
   "id": "a6cac9be-fd66-4ea8-94a9-0c2c17e022d8",
   "metadata": {},
   "outputs": [
    {
     "name": "stdout",
     "output_type": "stream",
     "text": [
      "The numbers whose cube is divisible by 4 or 5 (using for loop): [2, 4, 5, 6, 8, 10, 12, 14, 15, 16, 18, 20, 22, 24, 25, 26, 28, 30, 32, 34, 35, 36, 38, 40, 42, 44, 45, 46, 48, 50, 52, 54, 55, 56, 58, 60, 62, 64, 65, 66, 68, 70, 72, 74, 75, 76, 78, 80, 82, 84, 85, 86, 88, 90, 92, 94, 95, 96, 98, 100]\n"
     ]
    }
   ],
   "source": [
    "#Q4.Create a list of numbers from 1 to 100. Use for loop and while loop to calculate \n",
    "# the cube of each number and if the cube of that number is divisible by 4 or 5 then append\n",
    "# that number in a list and print that list.\n",
    "#--->\n",
    "# Using for loop\n",
    "cube_list = []\n",
    "for i in range(1, 101):\n",
    "  cube = i**3\n",
    "  if cube % 4 == 0 or cube % 5 == 0:\n",
    "    cube_list.append(i)\n",
    "\n",
    "print(\"The numbers whose cube is divisible by 4 or 5 (using for loop):\", cube_list)\n",
    "\n"
   ]
  },
  {
   "cell_type": "code",
   "execution_count": 10,
   "id": "1663f964-993b-4795-9b8f-0fd07658fa8c",
   "metadata": {},
   "outputs": [
    {
     "name": "stdout",
     "output_type": "stream",
     "text": [
      "The numbers whose cube is divisible by 4 or 5 (using while loop): [2, 4, 5, 6, 8, 10, 12, 14, 15, 16, 18, 20, 22, 24, 25, 26, 28, 30, 32, 34, 35, 36, 38, 40, 42, 44, 45, 46, 48, 50, 52, 54, 55, 56, 58, 60, 62, 64, 65, 66, 68, 70, 72, 74, 75, 76, 78, 80, 82, 84, 85, 86, 88, 90, 92, 94, 95, 96, 98, 100]\n"
     ]
    }
   ],
   "source": [
    "# Using while loop\n",
    "cube_list = []\n",
    "i = 1\n",
    "while i <= 100:\n",
    "  cube = i**3\n",
    "  if cube % 4 == 0 or cube % 5 == 0:\n",
    "    cube_list.append(i)\n",
    "  i += 1\n",
    "\n",
    "print(\"The numbers whose cube is divisible by 4 or 5 (using while loop):\", cube_list)\n"
   ]
  },
  {
   "cell_type": "code",
   "execution_count": 3,
   "id": "a1ebcc6f-4801-475e-8c5a-85bca5fc70cd",
   "metadata": {},
   "outputs": [
    {
     "name": "stdout",
     "output_type": "stream",
     "text": [
      "The number of vowels in the string is: 12\n"
     ]
    }
   ],
   "source": [
    "#Q5 .Write a program to filter count vowels in the below-given string.\n",
    "#    string = \"I want to become a data scientist\"\n",
    "\n",
    "def count_vowels(string):\n",
    "  vowels = \"aeiouAEIOU\"\n",
    "  count = 0\n",
    "  for char in string:\n",
    "    if char in vowels:\n",
    "      count += 1\n",
    "  return count\n",
    "\n",
    "string = \"I want to become a data scientist\"\n",
    "print(\"The number of vowels in the string is:\", count_vowels(string))\n"
   ]
  },
  {
   "cell_type": "code",
   "execution_count": null,
   "id": "ecbbc06b-4efb-436a-b478-76a9f75e34ae",
   "metadata": {},
   "outputs": [],
   "source": []
  }
 ],
 "metadata": {
  "kernelspec": {
   "display_name": "Python 3 (ipykernel)",
   "language": "python",
   "name": "python3"
  },
  "language_info": {
   "codemirror_mode": {
    "name": "ipython",
    "version": 3
   },
   "file_extension": ".py",
   "mimetype": "text/x-python",
   "name": "python",
   "nbconvert_exporter": "python",
   "pygments_lexer": "ipython3",
   "version": "3.10.8"
  }
 },
 "nbformat": 4,
 "nbformat_minor": 5
}
