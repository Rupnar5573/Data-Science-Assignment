{
 "cells": [
  {
   "cell_type": "code",
   "execution_count": 1,
   "id": "52d1f05a-6ff4-483f-872d-1b34bafd6f78",
   "metadata": {},
   "outputs": [],
   "source": [
    "# ----------> Assignment 5 ----->"
   ]
  },
  {
   "cell_type": "code",
   "execution_count": 3,
   "id": "91bf7359-59ee-490c-a826-bc08c3e9671f",
   "metadata": {},
   "outputs": [],
   "source": [
    "# # Q1. Explain Class and Object with respect to Object-Oriented Programming.\n",
    "# Give a suitable example.\n",
    "# --->\n",
    "# Class is a blueprint or template for creating objects. It defines a set of attributes \n",
    "# (fields) and behaviors (methods) that objects of that class will have.\n",
    "\n",
    "# An object is an instance of a class. Objects have their own unique set of values \n",
    "# for the attributes defined in the class, and can perform the behaviors \n",
    "# defined in the class.\n",
    "\n",
    "# Example: A class \"Car\" can have attributes such as make,\n",
    "# model, year, and color, and behaviors such as start, stop, and drive. \n",
    "# An object of the \"Car\" class might be a specific car, \n",
    "# such as a \"Toyota Camry\" with make=\"Toyota\", model=\"Camry\", year=2020, and color=\"Red\".\n",
    "\n"
   ]
  },
  {
   "cell_type": "code",
   "execution_count": 4,
   "id": "161b989e-5950-4d55-af67-6eb5a641f395",
   "metadata": {},
   "outputs": [],
   "source": [
    "# Q2. Name the four pillars of OOPs.\n",
    "# ---->\n",
    "\n",
    "# The four pillars of Object-Oriented Programming (OOP) are:\n",
    "\n",
    "# Abstraction: \n",
    "# Encapsulation:\n",
    "# Inheritance: \n",
    "# Polymorphism: "
   ]
  },
  {
   "cell_type": "code",
   "execution_count": 5,
   "id": "1fca6870-26a7-4ca1-a120-1a385ca8838c",
   "metadata": {},
   "outputs": [],
   "source": [
    "# Q3. Explain why the __init__() function is used. Give a suitable example\n",
    "# --->\n",
    "# The __init__ method, also known as a constructor, is used to initialize \n",
    "# the attributes of an object when it is created. The __init__ method is \n",
    "# called automatically when a new object is created from a class, and \n",
    "# it is used to set the initial values for the object's attributes.\n",
    "\n",
    "# Example: Consider a class Person with attributes name, age, and gender. \n",
    "# The __init__ method can be used to set these values when a new Person object is created.\n"
   ]
  },
  {
   "cell_type": "code",
   "execution_count": 6,
   "id": "8575c4bc-a53d-46b9-9e7f-af3820b90fff",
   "metadata": {},
   "outputs": [
    {
     "name": "stdout",
     "output_type": "stream",
     "text": [
      "Hello, my name is John\n"
     ]
    }
   ],
   "source": [
    "# Q4. Why self is used in OOPs?\n",
    "# ---->\n",
    "# Object-Oriented Programming (OOP), the self keyword is used to refer to\n",
    "# the instance of an object from within the object's own methods. \n",
    "# In other words, self refers to the object that the method is being called on.\n",
    "\n",
    "class Person:\n",
    "    def __init__(self, name):\n",
    "        self.name = name\n",
    "        \n",
    "    def greet(self):\n",
    "        print(f\"Hello, my name is {self.name}\")\n",
    "\n",
    "person = Person(\"John\")\n",
    "person.greet() # Output: Hello, my name is John\n",
    "\n"
   ]
  },
  {
   "cell_type": "code",
   "execution_count": 7,
   "id": "0f4bc45b-d6df-45f8-b9ea-dd671c99c64d",
   "metadata": {},
   "outputs": [
    {
     "name": "stdout",
     "output_type": "stream",
     "text": [
      "Buddy makes a sound\n"
     ]
    }
   ],
   "source": [
    "# Q5. What is inheritance? Give an example for each type of inheritance.\n",
    "\n",
    "# Inheritance is a mechanism in Object-Oriented Programming (OOP) that allows a new class to inherit attributes and behaviors from an existing class, known as the base class or superclass. The new class, known as the derived class or subclass, can reuse the code defined in the base class, and can also add new attributes or behaviors, or override existing ones.\n",
    "\n",
    "# Single inheritance: The derived class inherits from only one base class.\n",
    "# Example:\n",
    "class Animal:\n",
    "    def __init__(self, name, species):\n",
    "        self.name = name\n",
    "        self.species = species\n",
    "        \n",
    "    def make_sound(self):\n",
    "        print(f\"{self.name} makes a sound\")\n",
    "        \n",
    "class Dog(Animal):\n",
    "    def __init__(self, name, breed):\n",
    "        Animal.__init__(self, name, species=\"Dog\")\n",
    "        self.breed = breed\n",
    "\n",
    "dog = Dog(\"Buddy\", \"Labrador\")\n",
    "dog.make_sound() \n"
   ]
  },
  {
   "cell_type": "code",
   "execution_count": 8,
   "id": "3c55d012-3fb0-4520-b3fa-4b13d18fd7cc",
   "metadata": {},
   "outputs": [
    {
     "name": "stdout",
     "output_type": "stream",
     "text": [
      "Buddy makes a sound\n"
     ]
    }
   ],
   "source": [
    "# 2.Multi-level inheritance:\n",
    "#     A derived class inherits from a base class, \n",
    "#     which itself inherits from another base class.\n",
    "# Example \n",
    "class Animal:\n",
    "    def __init__(self, name, species):\n",
    "        self.name = name\n",
    "        self.species = species\n",
    "        \n",
    "    def make_sound(self):\n",
    "        print(f\"{self.name} makes a sound\")\n",
    "        \n",
    "class Mammal(Animal):\n",
    "    def __init__(self, name, fur_color):\n",
    "        Animal.__init__(self, name, species=\"Mammal\")\n",
    "        self.fur_color = fur_color\n",
    "        \n",
    "class Dog(Mammal):\n",
    "    def __init__(self, name, breed):\n",
    "        Mammal.__init__(self, name, fur_color=\"Brown\")\n",
    "        self.breed = breed\n",
    "\n",
    "dog = Dog(\"Buddy\", \"Labrador\")\n",
    "dog.make_sound() \n",
    "\n",
    "\n",
    "\n"
   ]
  },
  {
   "cell_type": "code",
   "execution_count": 11,
   "id": "673ba6d6-0548-4be1-8fbd-5cddbe645caf",
   "metadata": {},
   "outputs": [
    {
     "name": "stdout",
     "output_type": "stream",
     "text": [
      "Buddy makes a sound\n"
     ]
    }
   ],
   "source": [
    "# Multiple inheritance: \n",
    "# The derived class inherits from multiple base classes.\n",
    "# Example\n",
    "\n",
    "class Animal:\n",
    "    def __init__(self, name, species):\n",
    "        self.name = name\n",
    "        self.species = species\n",
    "        \n",
    "    def make_sound(self):\n",
    "        print(f\"{self.name} makes a sound\")\n",
    "        \n",
    "class Domestic:\n",
    "    def __init__(self, name, domesticated):\n",
    "        self.name = name\n",
    "        self.domesticated = domesticated\n",
    "        \n",
    "class Dog(Animal, Domestic):\n",
    "    def __init__(self, name, breed):\n",
    "        Animal.__init__(self, name, species=\"Dog\")\n",
    "        Domestic.__init__(self, name, domesticated=True)\n",
    "        self.breed = breed\n",
    "\n",
    "dog = Dog(\"Buddy\", \"Labrador\")\n",
    "dog.make_sound()\n",
    "\n",
    "\n"
   ]
  },
  {
   "cell_type": "code",
   "execution_count": 12,
   "id": "86e79b3c-1497-4645-89fa-1bcd616e90a6",
   "metadata": {},
   "outputs": [
    {
     "name": "stdout",
     "output_type": "stream",
     "text": [
      "Buddy makes a sound\n"
     ]
    }
   ],
   "source": [
    "# Hybrid inheritance: \n",
    "#     A combination of multiple inheritance types, including single inheritance, \n",
    "#     multi-level inheritance, and multiple inheritance.\n",
    "    \n",
    "class Animal:\n",
    "    def __init__(self, name, species):\n",
    "        self.name = name\n",
    "        self.species = species\n",
    "        \n",
    "    def make_sound(self):\n",
    "        print(f\"{self.name} makes a sound\")\n",
    "        \n",
    "class Mammal(Animal):\n",
    "    def __init__(self, name, fur_color):\n",
    "        Animal.__init__(self, name, species=\"Mammal\")\n",
    "        self.fur_color = fur_color\n",
    "        \n",
    "class Domestic:\n",
    "    def __init__(self, name, domesticated):\n",
    "        self.name = name\n",
    "        self.domesticated = domesticated\n",
    "        \n",
    "class Dog(Mammal, Domestic):\n",
    "    def __init__(self, name, breed):\n",
    "        Mammal.__init__(self, name, fur_color=\"Brown\")\n",
    "        Domestic.__init__(self, name, domesticated=True)\n",
    "        self.breed = breed\n",
    "\n",
    "dog = Dog(\"Buddy\", \"Labrador\")\n",
    "dog.make_sound()\n"
   ]
  },
  {
   "cell_type": "code",
   "execution_count": 15,
   "id": "6459f908-0049-46d1-aaa2-870af0711d74",
   "metadata": {},
   "outputs": [
    {
     "name": "stdout",
     "output_type": "stream",
     "text": [
      "Buddy makes a sound\n"
     ]
    }
   ],
   "source": [
    "# Hybrid inheritance:\n",
    "#     A combination of multiple inheritance types, including single inheritance, \n",
    "#     multi-level inheritance, and multiple inheritance.\n",
    "\n",
    "\n",
    "class Animal:\n",
    "    def __init__(self, name, species):\n",
    "        self.name = name\n",
    "        self.species = species\n",
    "        \n",
    "    def make_sound(self):\n",
    "        print(f\"{self.name} makes a sound\")\n",
    "        \n",
    "class Mammal(Animal):\n",
    "    def __init__(self, name, fur_color):\n",
    "        Animal.__init__(self, name, species=\"Mammal\")\n",
    "        self.fur_color = fur_color\n",
    "        \n",
    "class Domestic:\n",
    "    def __init__(self, name, domesticated):\n",
    "        self.name = name\n",
    "        self.domesticated = domesticated\n",
    "        \n",
    "class Dog(Mammal, Domestic):\n",
    "    def __init__(self, name, breed):\n",
    "        Mammal.__init__(self, name, fur_color=\"Brown\")\n",
    "        Domestic.__init__(self, name, domesticated=True)\n",
    "        self.breed = breed\n",
    "\n",
    "dog = Dog(\"Buddy\", \"Labrador\")\n",
    "dog.make_sound()\n"
   ]
  },
  {
   "cell_type": "code",
   "execution_count": 16,
   "id": "80e75f08-644d-437e-a3a7-0a2be88a570d",
   "metadata": {},
   "outputs": [
    {
     "data": {
      "text/plain": [
       "'Mammal'"
      ]
     },
     "execution_count": 16,
     "metadata": {},
     "output_type": "execute_result"
    }
   ],
   "source": [
    "dog.species\n"
   ]
  },
  {
   "cell_type": "code",
   "execution_count": 19,
   "id": "ca0ab10e-7f12-4acf-95a4-89cae58511bc",
   "metadata": {},
   "outputs": [
    {
     "data": {
      "text/plain": [
       "'cat'"
      ]
     },
     "execution_count": 19,
     "metadata": {},
     "output_type": "execute_result"
    }
   ],
   "source": [
    "Mammal = Mammal(\"cat\",\"pink \")\n",
    "Mammal.name"
   ]
  },
  {
   "cell_type": "code",
   "execution_count": null,
   "id": "c86f9f2c-8053-4a5d-b725-99bed60ade8a",
   "metadata": {},
   "outputs": [],
   "source": []
  }
 ],
 "metadata": {
  "kernelspec": {
   "display_name": "Python 3 (ipykernel)",
   "language": "python",
   "name": "python3"
  },
  "language_info": {
   "codemirror_mode": {
    "name": "ipython",
    "version": 3
   },
   "file_extension": ".py",
   "mimetype": "text/x-python",
   "name": "python",
   "nbconvert_exporter": "python",
   "pygments_lexer": "ipython3",
   "version": "3.10.8"
  }
 },
 "nbformat": 4,
 "nbformat_minor": 5
}
