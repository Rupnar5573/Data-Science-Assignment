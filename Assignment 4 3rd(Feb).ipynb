{
 "cells": [
  {
   "cell_type": "code",
   "execution_count": 1,
   "id": "3afa897b-0442-4998-b524-9c46c3023aab",
   "metadata": {},
   "outputs": [],
   "source": [
    "\n",
    "# ----------------> Assignment 4 ---------->\n"
   ]
  },
  {
   "cell_type": "code",
   "execution_count": 1,
   "id": "1810f75e-9292-45ad-a767-ea617ba2a2c9",
   "metadata": {},
   "outputs": [
    {
     "name": "stdout",
     "output_type": "stream",
     "text": [
      "[1, 3, 5, 7, 9, 11, 13, 15, 17, 19, 21, 23, 25]\n"
     ]
    }
   ],
   "source": [
    "# Q1. Which keyword is used to create a function? Create a function to return a list of odd numbers in the\n",
    "# range of 1 to 25.\n",
    "# -->The keyword used to create a function in Python is \"def\". \n",
    "# Here's an example function to return a list of odd numbers in the range of 1 to 25:\n",
    "def odd_numbers(n):\n",
    "    odd_list = []\n",
    "    for i in range(1, n+1):\n",
    "        if i % 2 != 0:\n",
    "            odd_list.append(i)\n",
    "    return odd_list\n",
    "\n",
    "print(odd_numbers(25))\n",
    "\n",
    "\n"
   ]
  },
  {
   "cell_type": "code",
   "execution_count": 2,
   "id": "797624c3-ef4e-4582-a0f2-8fc0a9f8bd5b",
   "metadata": {},
   "outputs": [
    {
     "name": "stdout",
     "output_type": "stream",
     "text": [
      "15\n",
      "Hello, John!\n",
      "Hi, Sarah!\n",
      "Hey, Michael!\n"
     ]
    }
   ],
   "source": [
    "# Q2. Why *args and **kwargs is used in some functions? Create a function each for *args and **kwargs\n",
    "# to demonstrate their use.\n",
    "\n",
    "# ---->\n",
    "# *args and **kwargs are used to pass a variable number of arguments to a function in Python.\n",
    "\n",
    "# *args allows a function to accept an arbitrary number of non-keyword arguments. These arguments are passed to the function as a tuple.\n",
    "\n",
    "# Here's an example function using *args:\n",
    "def sum_numbers(*args):\n",
    "    total = 0\n",
    "    for number in args:\n",
    "        total += number\n",
    "    return total\n",
    "\n",
    "print(sum_numbers(1, 2, 3, 4, 5))\n",
    "\n",
    "\n",
    "# --->\n",
    "# **kwargs allows a function to accept an arbitrary number of keyword arguments. These arguments are passed to the function as a dictionary.\n",
    "\n",
    "# Here's an example function using **kwargs:\n",
    "def greet_friends(**kwargs):\n",
    "    for name, greeting in kwargs.items():\n",
    "        print(f\"{greeting}, {name}!\")\n",
    "\n",
    "greet_friends(John=\"Hello\", Sarah=\"Hi\", Michael=\"Hey\")\n"
   ]
  },
  {
   "cell_type": "code",
   "execution_count": 3,
   "id": "0e32f6bc-5c7a-4f88-9448-7c680d5df2f4",
   "metadata": {},
   "outputs": [
    {
     "name": "stdout",
     "output_type": "stream",
     "text": [
      "2\n",
      "4\n",
      "6\n",
      "8\n",
      "10\n"
     ]
    }
   ],
   "source": [
    "# Q3. What is an iterator in python? Name the method used to initialise the iterator object and the method\n",
    "# used for iteration. Use these methods to print the first five elements of the given list [2, 4, 6, 8, 10, 12, 14,\n",
    "# 16, 18, 20].\n",
    "\n",
    "# --->\n",
    "#  iterator in Python is an object that can be iterated (looped) upon. \n",
    "#  It implements two methods, __iter__() and __next__(), to allow the iteration.\n",
    "\n",
    "# The __iter__() method initializes the iterator object, and\n",
    "# the __next__() method is used to get the next value in the sequence. \n",
    "# When there are no more items to return, the __next__() method should raise \n",
    "# a StopIteration exception.\n",
    "\n",
    "class ListIterator:\n",
    "    def __init__(self, lst):\n",
    "        self.lst = lst\n",
    "        self.index = 0\n",
    "        \n",
    "    def __iter__(self):\n",
    "        return self\n",
    "\n",
    "    def __next__(self):\n",
    "        if self.index == len(self.lst):\n",
    "            raise StopIteration\n",
    "        else:\n",
    "            value = self.lst[self.index]\n",
    "            self.index += 1\n",
    "            return value\n",
    "\n",
    "numbers = [2, 4, 6, 8, 10, 12, 14, 16, 18, 20]\n",
    "numbers_iterator = ListIterator(numbers)\n",
    "\n",
    "for i in range(5):\n",
    "    print(next(numbers_iterator))\n"
   ]
  },
  {
   "cell_type": "code",
   "execution_count": 4,
   "id": "43b21167-10ba-4af9-ba94-b0672761e455",
   "metadata": {},
   "outputs": [
    {
     "name": "stdout",
     "output_type": "stream",
     "text": [
      "0\n",
      "1\n",
      "1\n",
      "2\n",
      "3\n",
      "5\n",
      "8\n",
      "13\n",
      "21\n",
      "34\n"
     ]
    }
   ],
   "source": [
    "# Q4. What is a generator function in python? Why yield keyword is used? Give an example of a generator\n",
    "# function.\n",
    "\n",
    "# --->\n",
    "# A generator function in Python is a special type of function that returns a generator iterator. It can be used to create an iterable object in a more concise way compared to implementing the iterator protocol (__iter__ and __next__ methods).\n",
    "\n",
    "# The yield keyword is used in a generator function to produce a value and return it to the caller, but unlike a normal function, the generator function does not terminate. Instead, its state is saved, and the function can be resumed from where it left off the next time it's called.\n",
    "\n",
    "def fibonacci_sequence():\n",
    "    a, b = 0, 1\n",
    "    while True:\n",
    "        yield a\n",
    "        a, b = b, a + b\n",
    "\n",
    "fib = fibonacci_sequence()\n",
    "for i in range(10):\n",
    "    print(next(fib))\n"
   ]
  },
  {
   "cell_type": "code",
   "execution_count": 5,
   "id": "3f1c3029-67c9-40d3-a5f7-4dd1f1c6c351",
   "metadata": {},
   "outputs": [
    {
     "name": "stdout",
     "output_type": "stream",
     "text": [
      "2\n",
      "3\n",
      "5\n",
      "7\n",
      "11\n",
      "13\n",
      "17\n",
      "19\n",
      "23\n",
      "29\n",
      "31\n",
      "37\n",
      "41\n",
      "43\n",
      "47\n",
      "53\n",
      "59\n",
      "61\n",
      "67\n",
      "71\n"
     ]
    }
   ],
   "source": [
    "# Q5. Create a generator function for prime numbers less than 1000. Use the next() method to print the\n",
    "# first 20 prime numbers.\n",
    "\n",
    "def prime_numbers():\n",
    "    yield 2\n",
    "    primes = [2]\n",
    "    n = 3\n",
    "    while n < 1000:\n",
    "        is_prime = True\n",
    "        for prime in primes:\n",
    "            if n % prime == 0:\n",
    "                is_prime = False\n",
    "                break\n",
    "        if is_prime:\n",
    "            primes.append(n)\n",
    "            yield n\n",
    "        n += 2\n",
    "\n",
    "primes = prime_numbers()\n",
    "for i in range(20):\n",
    "    print(next(primes))\n"
   ]
  },
  {
   "cell_type": "code",
   "execution_count": 6,
   "id": "174d6856-4fd7-4001-a5e7-7bed3e5c1ca6",
   "metadata": {},
   "outputs": [
    {
     "name": "stdout",
     "output_type": "stream",
     "text": [
      "0\n",
      "1\n",
      "1\n",
      "2\n",
      "3\n",
      "5\n",
      "8\n",
      "13\n",
      "21\n",
      "34\n"
     ]
    }
   ],
   "source": [
    "# Q6. Write a python program to print the first 10 Fibonacci numbers using a while loop.\n",
    "\n",
    "a, b = 0, 1\n",
    "count = 0\n",
    "\n",
    "while count < 10:\n",
    "    print(a)\n",
    "    n = a + b\n",
    "    a = b\n",
    "    b = n\n",
    "    count += 1\n"
   ]
  },
  {
   "cell_type": "code",
   "execution_count": 7,
   "id": "27ad3761-35d3-4c9c-9b9f-c066d64c649d",
   "metadata": {},
   "outputs": [
    {
     "name": "stdout",
     "output_type": "stream",
     "text": [
      "['p', 'w', 's', 'k', 'i', 'l', 'l', 's']\n"
     ]
    }
   ],
   "source": [
    "# Q7. Write a List Comprehension to iterate through the given string: ‘pwskills’.\n",
    "# Expected output: ['p', 'w', 's', 'k', 'i', 'l', 'l', 's']\n",
    "\n",
    "string = 'pwskills'\n",
    "letters = [letter for letter in string]\n",
    "print(letters)\n"
   ]
  },
  {
   "cell_type": "code",
   "execution_count": 2,
   "id": "413d0d6e-0f86-41de-9e62-932afa7bbaee",
   "metadata": {},
   "outputs": [
    {
     "name": "stdin",
     "output_type": "stream",
     "text": [
      "Enter a number:  121\n"
     ]
    },
    {
     "name": "stdout",
     "output_type": "stream",
     "text": [
      "121 is a palindrome.\n"
     ]
    }
   ],
   "source": [
    "# Q8. Write a python program to check whether a given number is Palindrome or not using a while loop.\n",
    "\n",
    "def is_palindrome(n):\n",
    "    original = n\n",
    "    reverse = 0\n",
    "    while n > 0:\n",
    "        digit = n % 10\n",
    "        reverse = reverse * 10 + digit\n",
    "        n = n // 10\n",
    "    return original == reverse\n",
    "\n",
    "number = int(input(\"Enter a number: \"))\n",
    "if is_palindrome(number):\n",
    "    print(f\"{number} is a palindrome.\")\n",
    "else:\n",
    "    print(f\"{number} is not a palindrome.\")\n"
   ]
  },
  {
   "cell_type": "code",
   "execution_count": 3,
   "id": "a6487418-af41-448b-9c71-648e6be60880",
   "metadata": {},
   "outputs": [
    {
     "name": "stdout",
     "output_type": "stream",
     "text": [
      "[1, 3, 5, 7, 9, 11, 13, 15, 17, 19, 21, 23, 25, 27, 29, 31, 33, 35, 37, 39, 41, 43, 45, 47, 49, 51, 53, 55, 57, 59, 61, 63, 65, 67, 69, 71, 73, 75, 77, 79, 81, 83, 85, 87, 89, 91, 93, 95, 97, 99]\n"
     ]
    }
   ],
   "source": [
    "# Q9. Write a code to print odd numbers from 1 to 100 using list comprehension.\n",
    "\n",
    "odd_numbers = [x for x in range(1, 101) if x % 2 != 0]\n",
    "print(odd_numbers)\n"
   ]
  },
  {
   "cell_type": "code",
   "execution_count": null,
   "id": "d6fef14b-0c4a-4a0d-8ec2-49f587420891",
   "metadata": {},
   "outputs": [],
   "source": []
  }
 ],
 "metadata": {
  "kernelspec": {
   "display_name": "Python 3 (ipykernel)",
   "language": "python",
   "name": "python3"
  },
  "language_info": {
   "codemirror_mode": {
    "name": "ipython",
    "version": 3
   },
   "file_extension": ".py",
   "mimetype": "text/x-python",
   "name": "python",
   "nbconvert_exporter": "python",
   "pygments_lexer": "ipython3",
   "version": "3.10.8"
  }
 },
 "nbformat": 4,
 "nbformat_minor": 5
}
