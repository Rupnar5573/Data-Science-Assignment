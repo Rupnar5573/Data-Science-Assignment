{
 "cells": [
  {
   "cell_type": "code",
   "execution_count": 1,
   "id": "10b4fb78-2f41-495f-820d-676e66a9261f",
   "metadata": {},
   "outputs": [],
   "source": [
    "\n",
    "#--------------->Assignment 2 -------------------->\n"
   ]
  },
  {
   "cell_type": "code",
   "execution_count": 3,
   "id": "e860e4dc-0c84-4b9f-b863-2620bbd1db8e",
   "metadata": {},
   "outputs": [
    {
     "name": "stdin",
     "output_type": "stream",
     "text": [
      "Enter your percentage:  45\n"
     ]
    },
    {
     "name": "stdout",
     "output_type": "stream",
     "text": [
      "Your grade is D\n"
     ]
    }
   ],
   "source": [
    "#Q1\n",
    "percentage = float(input(\"Enter your percentage: \"))\n",
    "\n",
    "if percentage > 90:\n",
    "    print(\"Your grade is A\")\n",
    "elif percentage > 80 and percentage <= 90:\n",
    "    print(\"Your grade is B\")\n",
    "elif percentage >= 60 and percentage <= 80:\n",
    "    print(\"Your grade is C\")\n",
    "else:\n",
    "    print(\"Your grade is D\")"
   ]
  },
  {
   "cell_type": "code",
   "execution_count": 8,
   "id": "71096378-4276-4ed9-a029-93bf6f4e836d",
   "metadata": {},
   "outputs": [
    {
     "name": "stdin",
     "output_type": "stream",
     "text": [
      "Enter the cost price of the bike:  60000\n"
     ]
    },
    {
     "name": "stdout",
     "output_type": "stream",
     "text": [
      "The road tax to be paid is: 9000.0 Rs.\n"
     ]
    }
   ],
   "source": [
    "#Q2\n",
    "cost_price = float(input(\"Enter the cost price of the bike: \"))\n",
    "\n",
    "if cost_price > 100000:\n",
    "    road_tax = cost_price * 0.10\n",
    "    print(\"The road tax to be paid is:\", road_tax, \"Rs.\")\n",
    "\n",
    "elif cost_price > 50000 and cost_price <= 100000:\n",
    "    road_tax = cost_price * 0.15\n",
    "    print(\"The road tax to be paid is:\", road_tax, \"Rs.\")\n",
    "elif cost_price <= 50000:\n",
    "    road_tax = cost_price * 0.05\n",
    "    print(\"The road tax to be paid is:\", road_tax, \"Rs.\")\n",
    "else:\n",
    "    \n",
    "    print(\"The road tax minimum arage is 0 to 100000 :\")\n"
   ]
  },
  {
   "cell_type": "code",
   "execution_count": 4,
   "id": "60438ca8-aec2-4e91-b685-cf8ba86455aa",
   "metadata": {},
   "outputs": [
    {
     "name": "stdin",
     "output_type": "stream",
     "text": [
      "Enter a city:  Delhi\n"
     ]
    },
    {
     "name": "stdout",
     "output_type": "stream",
     "text": [
      "Monuments in Delhi: Red Fort\n"
     ]
    }
   ],
   "source": [
    "#Q3\n",
    "city = input(\"Enter a city: \")\n",
    "\n",
    "if city == \"Delhi\":\n",
    "    print(\"Monuments in Delhi: Red Fort\")\n",
    "elif city == \"Agra\":\n",
    "    print(\"Monuments in Agra: Taj Mahal\")\n",
    "elif city == \"Jaipur\":\n",
    "    print(\"Monuments in Jaipur: Jal Mahal\")\n",
    "else:\n",
    "    print(\"No monuments found for the given city.\")"
   ]
  },
  {
   "cell_type": "code",
   "execution_count": null,
   "id": "854d4aa4-976b-4543-899f-709d34ba8f91",
   "metadata": {},
   "outputs": [],
   "source": [
    "#  #Q4 Check how many times a given number can be divided by 3 before it is less than or equal to 10.\n",
    "# --->\n",
    "\n",
    "num = int(input(\"Enter the number\"))\n",
    "count=0\n",
    "while(X//3>10):\n",
    "    count=count+1\n",
    "    num= x/3\n",
    "#sir this program is not work. what happened i am not understand ?\n",
    "\n",
    "    \n"
   ]
  },
  {
   "cell_type": "code",
   "execution_count": null,
   "id": "bcfb5021-7bba-4d0c-8f67-a30e6c1ead19",
   "metadata": {},
   "outputs": [],
   "source": [
    "#Q5 Why and When to use while Loop in Python give a detailed description with example\n",
    " #a while loop is used to repeatedly execute a block of code as long as a certain condition is met. \n",
    " #The structure of a while loop is as follows:\n",
    " # while condition:\n",
    "    \n",
    "    # The condition is evaluated before each iteration, and if it is True, \n",
    "    # the code within the loop is executed. If the condition is False,\n",
    "    # the loop terminates and execution continues with the next statement after the loop.\n",
    "    \n",
    "#Example: you might want to keep asking for user input until the user enters a valid response.\n",
    "while True:\n",
    "    response = input(\"Enter your response: \")\n",
    "    if response == \"quit\":\n",
    "        break\n",
    "    print(\"You entered:\", response)\n",
    "\n",
    "\n",
    "\n"
   ]
  },
  {
   "cell_type": "code",
   "execution_count": 1,
   "id": "da53499f-a3c0-4d9e-b208-2ba97d9575bd",
   "metadata": {},
   "outputs": [
    {
     "name": "stdout",
     "output_type": "stream",
     "text": [
      "*\n",
      "**\n",
      "***\n",
      "****\n",
      "*****\n"
     ]
    }
   ],
   "source": [
    "#Q6 Use nested while loop to print 3 different pattern.\n",
    "#1.Triangular pattern:\n",
    "rows = 5\n",
    "i = 1\n",
    "while i <= rows:\n",
    "    j = 1\n",
    "    while j <= i:\n",
    "        print(\"*\", end=\"\")\n",
    "        j += 1\n",
    "    print(\"\")\n",
    "    i += 1\n",
    "    \n"
   ]
  },
  {
   "cell_type": "code",
   "execution_count": 2,
   "id": "12e4924e-9a05-4a63-8a15-9ff60c7793fb",
   "metadata": {},
   "outputs": [
    {
     "name": "stdout",
     "output_type": "stream",
     "text": [
      "*****\n",
      "****\n",
      "***\n",
      "**\n",
      "*\n"
     ]
    }
   ],
   "source": [
    "#2.Inverted Triangular pattern:\n",
    "rows = 5\n",
    "i = rows\n",
    "while i >= 1:\n",
    "    j = 1\n",
    "    while j <= i:\n",
    "        print(\"*\", end=\"\")\n",
    "        j += 1\n",
    "    print(\"\")\n",
    "    i -= 1\n"
   ]
  },
  {
   "cell_type": "code",
   "execution_count": 7,
   "id": "4ee92183-4979-4e1c-9705-aba45089bb72",
   "metadata": {},
   "outputs": [
    {
     "name": "stdin",
     "output_type": "stream",
     "text": [
      "Enter diamond's height:  5\n"
     ]
    },
    {
     "name": "stdout",
     "output_type": "stream",
     "text": [
      "      *\n",
      "     ***\n",
      "    *****\n",
      "   *******\n",
      "  *********\n",
      "   *******\n",
      "    *****\n",
      "     ***\n",
      "      *\n"
     ]
    }
   ],
   "source": [
    "# 3.Diamond pattern:\n",
    "h = eval(input(\"Enter diamond's height: \"))\n",
    "for x in range(h):\n",
    "    print(\" \" * (h - x), \"*\" * (2*x + 1))\n",
    "for x in range(h - 2, -1, -1):\n",
    "    print(\" \" * (h - x), \"*\" * (2*x + 1))\n"
   ]
  },
  {
   "cell_type": "code",
   "execution_count": 8,
   "id": "746c13a6-849e-4d8e-8cce-9f72d35b6a30",
   "metadata": {},
   "outputs": [
    {
     "name": "stdout",
     "output_type": "stream",
     "text": [
      "10\n",
      "9\n",
      "8\n",
      "7\n",
      "6\n",
      "5\n",
      "4\n",
      "3\n",
      "2\n",
      "1\n"
     ]
    }
   ],
   "source": [
    "#Q7.Reverse a while loop to display numbers from 10 to 1.\n",
    "i = 10\n",
    "while i >= 1:\n",
    "    print(i)\n",
    "    i -= 1\n"
   ]
  },
  {
   "cell_type": "code",
   "execution_count": 12,
   "id": "009c6e21-6395-475a-8ef8-4c29c7fc7514",
   "metadata": {},
   "outputs": [
    {
     "name": "stdout",
     "output_type": "stream",
     "text": [
      "1\n",
      "2\n",
      "3\n",
      "4\n",
      "5\n",
      "6\n",
      "7\n",
      "8\n",
      "9\n",
      "10\n"
     ]
    }
   ],
   "source": [
    "#Q8 while loop to display numbers from 1 to 10.\n",
    "i = 1\n",
    "while i <= 10:\n",
    "    print(i)\n",
    "    i += 1"
   ]
  },
  {
   "cell_type": "code",
   "execution_count": null,
   "id": "2abc6090-9cc6-4ab0-9df6-f702d6003b00",
   "metadata": {},
   "outputs": [],
   "source": [
    "# note: sir Qno.7 and 8  are same.so i will just modified "
   ]
  }
 ],
 "metadata": {
  "kernelspec": {
   "display_name": "Python 3 (ipykernel)",
   "language": "python",
   "name": "python3"
  },
  "language_info": {
   "codemirror_mode": {
    "name": "ipython",
    "version": 3
   },
   "file_extension": ".py",
   "mimetype": "text/x-python",
   "name": "python",
   "nbconvert_exporter": "python",
   "pygments_lexer": "ipython3",
   "version": "3.10.8"
  }
 },
 "nbformat": 4,
 "nbformat_minor": 5
}
